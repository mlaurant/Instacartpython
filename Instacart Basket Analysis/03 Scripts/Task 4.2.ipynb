{
 "cells": [
  {
   "cell_type": "markdown",
   "id": "7948309c",
   "metadata": {},
   "source": [
    "#IMPORT LIBRARIES"
   ]
  },
  {
   "cell_type": "code",
   "execution_count": 2,
   "id": "d5a16df3",
   "metadata": {},
   "outputs": [],
   "source": [
    "import pandas as pd\n",
    "import numpy as np\n",
    "import os"
   ]
  },
  {
   "cell_type": "markdown",
   "id": "c4b8c579",
   "metadata": {},
   "source": [
    "#DATE TYPES"
   ]
  },
  {
   "cell_type": "code",
   "execution_count": 3,
   "id": "14f46c39",
   "metadata": {},
   "outputs": [],
   "source": [
    "a = 40"
   ]
  },
  {
   "cell_type": "code",
   "execution_count": 4,
   "id": "bd9df595",
   "metadata": {},
   "outputs": [],
   "source": [
    "b = 60"
   ]
  },
  {
   "cell_type": "code",
   "execution_count": 5,
   "id": "25aac423",
   "metadata": {},
   "outputs": [
    {
     "data": {
      "text/plain": [
       "100"
      ]
     },
     "execution_count": 5,
     "metadata": {},
     "output_type": "execute_result"
    }
   ],
   "source": [
    "a + b"
   ]
  },
  {
   "cell_type": "code",
   "execution_count": 6,
   "id": "a13ff5b2",
   "metadata": {},
   "outputs": [],
   "source": [
    "c = 160"
   ]
  },
  {
   "cell_type": "code",
   "execution_count": 7,
   "id": "a83f7eb6",
   "metadata": {},
   "outputs": [
    {
     "data": {
      "text/plain": [
       "100"
      ]
     },
     "execution_count": 7,
     "metadata": {},
     "output_type": "execute_result"
    }
   ],
   "source": [
    "c - b"
   ]
  },
  {
   "cell_type": "code",
   "execution_count": 8,
   "id": "1964e2a7",
   "metadata": {},
   "outputs": [],
   "source": [
    "d = 50"
   ]
  },
  {
   "cell_type": "code",
   "execution_count": 9,
   "id": "029a9fc1",
   "metadata": {},
   "outputs": [
    {
     "data": {
      "text/plain": [
       "100"
      ]
     },
     "execution_count": 9,
     "metadata": {},
     "output_type": "execute_result"
    }
   ],
   "source": [
    "d + d"
   ]
  },
  {
   "cell_type": "code",
   "execution_count": 10,
   "id": "95f97555",
   "metadata": {},
   "outputs": [],
   "source": [
    "e = 5.462"
   ]
  },
  {
   "cell_type": "code",
   "execution_count": 11,
   "id": "bcf10bc1",
   "metadata": {},
   "outputs": [],
   "source": [
    "f = 2.143"
   ]
  },
  {
   "cell_type": "code",
   "execution_count": 12,
   "id": "9eba5178",
   "metadata": {},
   "outputs": [
    {
     "data": {
      "text/plain": [
       "2.548763415772282"
      ]
     },
     "execution_count": 12,
     "metadata": {},
     "output_type": "execute_result"
    }
   ],
   "source": [
    "e / f"
   ]
  },
  {
   "cell_type": "code",
   "execution_count": 13,
   "id": "c0dc1700",
   "metadata": {},
   "outputs": [],
   "source": [
    "g = 'straw'"
   ]
  },
  {
   "cell_type": "code",
   "execution_count": 14,
   "id": "0d5335da",
   "metadata": {},
   "outputs": [],
   "source": [
    "h = 'berry'"
   ]
  },
  {
   "cell_type": "code",
   "execution_count": 15,
   "id": "ec915bc5",
   "metadata": {},
   "outputs": [
    {
     "data": {
      "text/plain": [
       "'strawberry'"
      ]
     },
     "execution_count": 15,
     "metadata": {},
     "output_type": "execute_result"
    }
   ],
   "source": [
    "g + h"
   ]
  },
  {
   "cell_type": "code",
   "execution_count": 16,
   "id": "085e22b6",
   "metadata": {},
   "outputs": [],
   "source": [
    "i = 'Hello, '"
   ]
  },
  {
   "cell_type": "code",
   "execution_count": 17,
   "id": "a1cbd4fa",
   "metadata": {},
   "outputs": [],
   "source": [
    "j = 'Jorge!'"
   ]
  },
  {
   "cell_type": "code",
   "execution_count": 18,
   "id": "bc02a933",
   "metadata": {},
   "outputs": [
    {
     "data": {
      "text/plain": [
       "'Hello, Jorge!'"
      ]
     },
     "execution_count": 18,
     "metadata": {},
     "output_type": "execute_result"
    }
   ],
   "source": [
    "i + j"
   ]
  },
  {
   "cell_type": "code",
   "execution_count": 19,
   "id": "75394233",
   "metadata": {},
   "outputs": [],
   "source": [
    "k = 'Happy '"
   ]
  },
  {
   "cell_type": "code",
   "execution_count": 20,
   "id": "78592e32",
   "metadata": {},
   "outputs": [],
   "source": [
    "l = 'Friday!'"
   ]
  },
  {
   "cell_type": "code",
   "execution_count": 21,
   "id": "2e549d5b",
   "metadata": {},
   "outputs": [
    {
     "data": {
      "text/plain": [
       "'Happy Friday!'"
      ]
     },
     "execution_count": 21,
     "metadata": {},
     "output_type": "execute_result"
    }
   ],
   "source": [
    "k + l"
   ]
  },
  {
   "cell_type": "code",
   "execution_count": null,
   "id": "886571e3",
   "metadata": {},
   "outputs": [],
   "source": []
  }
 ],
 "metadata": {
  "kernelspec": {
   "display_name": "Python 3 (ipykernel)",
   "language": "python",
   "name": "python3"
  },
  "language_info": {
   "codemirror_mode": {
    "name": "ipython",
    "version": 3
   },
   "file_extension": ".py",
   "mimetype": "text/x-python",
   "name": "python",
   "nbconvert_exporter": "python",
   "pygments_lexer": "ipython3",
   "version": "3.11.4"
  }
 },
 "nbformat": 4,
 "nbformat_minor": 5
}
